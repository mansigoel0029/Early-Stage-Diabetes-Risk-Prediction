{
  "nbformat": 4,
  "nbformat_minor": 0,
  "metadata": {
    "kernelspec": {
      "display_name": "Python 3",
      "language": "python",
      "name": "python3"
    },
    "language_info": {
      "codemirror_mode": {
        "name": "ipython",
        "version": 3
      },
      "file_extension": ".py",
      "mimetype": "text/x-python",
      "name": "python",
      "nbconvert_exporter": "python",
      "pygments_lexer": "ipython3",
      "version": "3.8.3"
    },
    "colab": {
      "name": "PNN .ipynb",
      "provenance": [],
      "collapsed_sections": []
    }
  },
  "cells": [
    {
      "cell_type": "code",
      "metadata": {
        "id": "UkhxEQZ3IHWn"
      },
      "source": [
        "import pandas as pd\n",
        "import numpy as np\n",
        "import seaborn as sns\n",
        "import matplotlib.pyplot as plt\n",
        "%matplotlib inline"
      ],
      "execution_count": 1,
      "outputs": []
    },
    {
      "cell_type": "code",
      "metadata": {
        "id": "cl5s7ScxIHWo"
      },
      "source": [
        "data=pd.read_csv(\"data.csv\")"
      ],
      "execution_count": 3,
      "outputs": []
    },
    {
      "cell_type": "code",
      "metadata": {
        "id": "TPE4ItGIIHWo"
      },
      "source": [
        "data.shape #Data contains 520 rows and 17 columns "
      ],
      "execution_count": null,
      "outputs": []
    },
    {
      "cell_type": "code",
      "metadata": {
        "id": "Ua7-y59PIHWp"
      },
      "source": [
        "data.head()"
      ],
      "execution_count": null,
      "outputs": []
    },
    {
      "cell_type": "code",
      "metadata": {
        "id": "ZJqyH4BeIHWp"
      },
      "source": [
        "data.isna().sum() #There are no null values "
      ],
      "execution_count": null,
      "outputs": []
    },
    {
      "cell_type": "code",
      "metadata": {
        "id": "x3QrW4BzIHWq"
      },
      "source": [
        "Data=data"
      ],
      "execution_count": 7,
      "outputs": []
    },
    {
      "cell_type": "code",
      "metadata": {
        "id": "Z3JPM7QlIHWq"
      },
      "source": [
        "Data.head()"
      ],
      "execution_count": null,
      "outputs": []
    },
    {
      "cell_type": "code",
      "metadata": {
        "id": "LcwNPJ0nNn70"
      },
      "source": [
        "Data['Gender'] = Data['Gender'].map({'Male':1,'Female':0})\n",
        "Data['class'] = Data['class'].map({'Positive':1,'Negative':0})\n",
        "Data['Polyuria'] = Data['Polyuria'].map({'Yes':1,'No':0})\n",
        "Data['Polydipsia'] = Data['Polydipsia'].map({'Yes':1,'No':0})\n",
        "Data['sudden weight loss'] = Data['sudden weight loss'].map({'Yes':1,'No':0})\n",
        "Data['weakness'] = Data['weakness'].map({'Yes':1,'No':0})\n",
        "Data['Polyphagia'] = Data['Polyphagia'].map({'Yes':1,'No':0})\n",
        "Data['Genital thrush'] = Data['Genital thrush'].map({'Yes':1,'No':0})\n",
        "Data['visual blurring'] = Data['visual blurring'].map({'Yes':1,'No':0})\n",
        "Data['Itching'] = Data['Itching'].map({'Yes':1,'No':0})\n",
        "Data['Irritability'] = Data['Irritability'].map({'Yes':1,'No':0})\n",
        "Data['delayed healing'] = Data['delayed healing'].map({'Yes':1,'No':0})\n",
        "Data['partial paresis'] = Data['partial paresis'].map({'Yes':1,'No':0})\n",
        "Data['muscle stiffness'] = Data['muscle stiffness'].map({'Yes':1,'No':0})\n",
        "Data['Alopecia'] = Data['Alopecia'].map({'Yes':1,'No':0})\n",
        "Data['Obesity'] = Data['Obesity'].map({'Yes':1,'No':0})"
      ],
      "execution_count": 9,
      "outputs": []
    },
    {
      "cell_type": "code",
      "metadata": {
        "id": "z8hfvvC7L1bw",
        "colab": {
          "base_uri": "https://localhost:8080/",
          "height": 258
        },
        "outputId": "a4d7bc69-60cc-4bd6-c9f3-b69f2bf2c4e7"
      },
      "source": [
        "Data.head() #all values have been coverted to numerical values "
      ],
      "execution_count": 10,
      "outputs": [
        {
          "output_type": "execute_result",
          "data": {
            "text/html": [
              "<div>\n",
              "<style scoped>\n",
              "    .dataframe tbody tr th:only-of-type {\n",
              "        vertical-align: middle;\n",
              "    }\n",
              "\n",
              "    .dataframe tbody tr th {\n",
              "        vertical-align: top;\n",
              "    }\n",
              "\n",
              "    .dataframe thead th {\n",
              "        text-align: right;\n",
              "    }\n",
              "</style>\n",
              "<table border=\"1\" class=\"dataframe\">\n",
              "  <thead>\n",
              "    <tr style=\"text-align: right;\">\n",
              "      <th></th>\n",
              "      <th>Age</th>\n",
              "      <th>Gender</th>\n",
              "      <th>Polyuria</th>\n",
              "      <th>Polydipsia</th>\n",
              "      <th>sudden weight loss</th>\n",
              "      <th>weakness</th>\n",
              "      <th>Polyphagia</th>\n",
              "      <th>Genital thrush</th>\n",
              "      <th>visual blurring</th>\n",
              "      <th>Itching</th>\n",
              "      <th>Irritability</th>\n",
              "      <th>delayed healing</th>\n",
              "      <th>partial paresis</th>\n",
              "      <th>muscle stiffness</th>\n",
              "      <th>Alopecia</th>\n",
              "      <th>Obesity</th>\n",
              "      <th>class</th>\n",
              "    </tr>\n",
              "  </thead>\n",
              "  <tbody>\n",
              "    <tr>\n",
              "      <th>0</th>\n",
              "      <td>40</td>\n",
              "      <td>1</td>\n",
              "      <td>0</td>\n",
              "      <td>1</td>\n",
              "      <td>0</td>\n",
              "      <td>1</td>\n",
              "      <td>0</td>\n",
              "      <td>0</td>\n",
              "      <td>0</td>\n",
              "      <td>1</td>\n",
              "      <td>0</td>\n",
              "      <td>1</td>\n",
              "      <td>0</td>\n",
              "      <td>1</td>\n",
              "      <td>1</td>\n",
              "      <td>1</td>\n",
              "      <td>1</td>\n",
              "    </tr>\n",
              "    <tr>\n",
              "      <th>1</th>\n",
              "      <td>58</td>\n",
              "      <td>1</td>\n",
              "      <td>0</td>\n",
              "      <td>0</td>\n",
              "      <td>0</td>\n",
              "      <td>1</td>\n",
              "      <td>0</td>\n",
              "      <td>0</td>\n",
              "      <td>1</td>\n",
              "      <td>0</td>\n",
              "      <td>0</td>\n",
              "      <td>0</td>\n",
              "      <td>1</td>\n",
              "      <td>0</td>\n",
              "      <td>1</td>\n",
              "      <td>0</td>\n",
              "      <td>1</td>\n",
              "    </tr>\n",
              "    <tr>\n",
              "      <th>2</th>\n",
              "      <td>41</td>\n",
              "      <td>1</td>\n",
              "      <td>1</td>\n",
              "      <td>0</td>\n",
              "      <td>0</td>\n",
              "      <td>1</td>\n",
              "      <td>1</td>\n",
              "      <td>0</td>\n",
              "      <td>0</td>\n",
              "      <td>1</td>\n",
              "      <td>0</td>\n",
              "      <td>1</td>\n",
              "      <td>0</td>\n",
              "      <td>1</td>\n",
              "      <td>1</td>\n",
              "      <td>0</td>\n",
              "      <td>1</td>\n",
              "    </tr>\n",
              "    <tr>\n",
              "      <th>3</th>\n",
              "      <td>45</td>\n",
              "      <td>1</td>\n",
              "      <td>0</td>\n",
              "      <td>0</td>\n",
              "      <td>1</td>\n",
              "      <td>1</td>\n",
              "      <td>1</td>\n",
              "      <td>1</td>\n",
              "      <td>0</td>\n",
              "      <td>1</td>\n",
              "      <td>0</td>\n",
              "      <td>1</td>\n",
              "      <td>0</td>\n",
              "      <td>0</td>\n",
              "      <td>0</td>\n",
              "      <td>0</td>\n",
              "      <td>1</td>\n",
              "    </tr>\n",
              "    <tr>\n",
              "      <th>4</th>\n",
              "      <td>60</td>\n",
              "      <td>1</td>\n",
              "      <td>1</td>\n",
              "      <td>1</td>\n",
              "      <td>1</td>\n",
              "      <td>1</td>\n",
              "      <td>1</td>\n",
              "      <td>0</td>\n",
              "      <td>1</td>\n",
              "      <td>1</td>\n",
              "      <td>1</td>\n",
              "      <td>1</td>\n",
              "      <td>1</td>\n",
              "      <td>1</td>\n",
              "      <td>1</td>\n",
              "      <td>1</td>\n",
              "      <td>1</td>\n",
              "    </tr>\n",
              "  </tbody>\n",
              "</table>\n",
              "</div>"
            ],
            "text/plain": [
              "   Age  Gender  Polyuria  ...  Alopecia  Obesity  class\n",
              "0   40       1         0  ...         1        1      1\n",
              "1   58       1         0  ...         1        0      1\n",
              "2   41       1         1  ...         1        0      1\n",
              "3   45       1         0  ...         0        0      1\n",
              "4   60       1         1  ...         1        1      1\n",
              "\n",
              "[5 rows x 17 columns]"
            ]
          },
          "metadata": {
            "tags": []
          },
          "execution_count": 10
        }
      ]
    },
    {
      "cell_type": "markdown",
      "metadata": {
        "id": "4YxuUzx6T0I_"
      },
      "source": [
        "**Gender vs Class**"
      ]
    },
    {
      "cell_type": "markdown",
      "metadata": {
        "id": "ehMBOKEQRROg"
      },
      "source": [
        "# Model Building \n"
      ]
    },
    {
      "cell_type": "markdown",
      "metadata": {
        "id": "NcZ6Ws23XXYo"
      },
      "source": [
        "Splitting into training and testing data "
      ]
    },
    {
      "cell_type": "code",
      "metadata": {
        "id": "ECg4qkAomYv-"
      },
      "source": [
        "from sklearn.model_selection import train_test_split\n",
        "trainX,testX,trainY,testY=train_test_split(Data.iloc[:,:-1],Data.iloc[:,-1],train_size=0.8,random_state=1)"
      ],
      "execution_count": 15,
      "outputs": []
    },
    {
      "cell_type": "code",
      "metadata": {
        "id": "3jrt3OitwUB0"
      },
      "source": [
        "#Normalizing the data\n",
        "from keras.utils import normalize\n",
        "Xtrain=normalize(trainX)\n",
        "Xtest=normalize(testX)"
      ],
      "execution_count": 16,
      "outputs": []
    },
    {
      "cell_type": "markdown",
      "metadata": {
        "id": "aMtGELS-IHWv"
      },
      "source": [
        "## Probabilistic Neural Network"
      ]
    },
    {
      "cell_type": "code",
      "metadata": {
        "id": "DegfzDoSr2Jf"
      },
      "source": [
        "!pip install neupy"
      ],
      "execution_count": null,
      "outputs": []
    },
    {
      "cell_type": "code",
      "metadata": {
        "id": "QQn6Mki3IHWv"
      },
      "source": [
        "from neupy import algorithms\n",
        "from sklearn import metrics"
      ],
      "execution_count": 18,
      "outputs": []
    },
    {
      "cell_type": "code",
      "metadata": {
        "id": "g1ZZolZptk_J",
        "colab": {
          "base_uri": "https://localhost:8080/",
          "height": 258
        },
        "outputId": "1b992f07-8cae-4ca6-98f1-c13ee8aa13de"
      },
      "source": [
        "Xtrain.head()"
      ],
      "execution_count": 19,
      "outputs": [
        {
          "output_type": "execute_result",
          "data": {
            "text/html": [
              "<div>\n",
              "<style scoped>\n",
              "    .dataframe tbody tr th:only-of-type {\n",
              "        vertical-align: middle;\n",
              "    }\n",
              "\n",
              "    .dataframe tbody tr th {\n",
              "        vertical-align: top;\n",
              "    }\n",
              "\n",
              "    .dataframe thead th {\n",
              "        text-align: right;\n",
              "    }\n",
              "</style>\n",
              "<table border=\"1\" class=\"dataframe\">\n",
              "  <thead>\n",
              "    <tr style=\"text-align: right;\">\n",
              "      <th></th>\n",
              "      <th>Age</th>\n",
              "      <th>Gender</th>\n",
              "      <th>Polyuria</th>\n",
              "      <th>Polydipsia</th>\n",
              "      <th>sudden weight loss</th>\n",
              "      <th>weakness</th>\n",
              "      <th>Polyphagia</th>\n",
              "      <th>Genital thrush</th>\n",
              "      <th>visual blurring</th>\n",
              "      <th>Itching</th>\n",
              "      <th>Irritability</th>\n",
              "      <th>delayed healing</th>\n",
              "      <th>partial paresis</th>\n",
              "      <th>muscle stiffness</th>\n",
              "      <th>Alopecia</th>\n",
              "      <th>Obesity</th>\n",
              "    </tr>\n",
              "  </thead>\n",
              "  <tbody>\n",
              "    <tr>\n",
              "      <th>201</th>\n",
              "      <td>0.998727</td>\n",
              "      <td>0.035669</td>\n",
              "      <td>0.000000</td>\n",
              "      <td>0.000000</td>\n",
              "      <td>0.035669</td>\n",
              "      <td>0.000000</td>\n",
              "      <td>0.000000</td>\n",
              "      <td>0.000000</td>\n",
              "      <td>0.000000</td>\n",
              "      <td>0.000000</td>\n",
              "      <td>0.000000</td>\n",
              "      <td>0.000000</td>\n",
              "      <td>0.000000</td>\n",
              "      <td>0.000000</td>\n",
              "      <td>0.000000</td>\n",
              "      <td>0.0</td>\n",
              "    </tr>\n",
              "    <tr>\n",
              "      <th>92</th>\n",
              "      <td>0.997509</td>\n",
              "      <td>0.000000</td>\n",
              "      <td>0.024938</td>\n",
              "      <td>0.024938</td>\n",
              "      <td>0.024938</td>\n",
              "      <td>0.024938</td>\n",
              "      <td>0.000000</td>\n",
              "      <td>0.000000</td>\n",
              "      <td>0.024938</td>\n",
              "      <td>0.000000</td>\n",
              "      <td>0.000000</td>\n",
              "      <td>0.024938</td>\n",
              "      <td>0.024938</td>\n",
              "      <td>0.024938</td>\n",
              "      <td>0.000000</td>\n",
              "      <td>0.0</td>\n",
              "    </tr>\n",
              "    <tr>\n",
              "      <th>344</th>\n",
              "      <td>0.999463</td>\n",
              "      <td>0.000000</td>\n",
              "      <td>0.016385</td>\n",
              "      <td>0.000000</td>\n",
              "      <td>0.000000</td>\n",
              "      <td>0.000000</td>\n",
              "      <td>0.016385</td>\n",
              "      <td>0.000000</td>\n",
              "      <td>0.000000</td>\n",
              "      <td>0.000000</td>\n",
              "      <td>0.016385</td>\n",
              "      <td>0.000000</td>\n",
              "      <td>0.000000</td>\n",
              "      <td>0.000000</td>\n",
              "      <td>0.016385</td>\n",
              "      <td>0.0</td>\n",
              "    </tr>\n",
              "    <tr>\n",
              "      <th>119</th>\n",
              "      <td>0.997844</td>\n",
              "      <td>0.000000</td>\n",
              "      <td>0.029348</td>\n",
              "      <td>0.029348</td>\n",
              "      <td>0.000000</td>\n",
              "      <td>0.029348</td>\n",
              "      <td>0.000000</td>\n",
              "      <td>0.000000</td>\n",
              "      <td>0.000000</td>\n",
              "      <td>0.000000</td>\n",
              "      <td>0.029348</td>\n",
              "      <td>0.000000</td>\n",
              "      <td>0.000000</td>\n",
              "      <td>0.029348</td>\n",
              "      <td>0.000000</td>\n",
              "      <td>0.0</td>\n",
              "    </tr>\n",
              "    <tr>\n",
              "      <th>221</th>\n",
              "      <td>0.998381</td>\n",
              "      <td>0.023218</td>\n",
              "      <td>0.000000</td>\n",
              "      <td>0.000000</td>\n",
              "      <td>0.000000</td>\n",
              "      <td>0.023218</td>\n",
              "      <td>0.000000</td>\n",
              "      <td>0.023218</td>\n",
              "      <td>0.000000</td>\n",
              "      <td>0.023218</td>\n",
              "      <td>0.000000</td>\n",
              "      <td>0.023218</td>\n",
              "      <td>0.000000</td>\n",
              "      <td>0.000000</td>\n",
              "      <td>0.023218</td>\n",
              "      <td>0.0</td>\n",
              "    </tr>\n",
              "  </tbody>\n",
              "</table>\n",
              "</div>"
            ],
            "text/plain": [
              "          Age    Gender  Polyuria  ...  muscle stiffness  Alopecia  Obesity\n",
              "201  0.998727  0.035669  0.000000  ...          0.000000  0.000000      0.0\n",
              "92   0.997509  0.000000  0.024938  ...          0.024938  0.000000      0.0\n",
              "344  0.999463  0.000000  0.016385  ...          0.000000  0.016385      0.0\n",
              "119  0.997844  0.000000  0.029348  ...          0.029348  0.000000      0.0\n",
              "221  0.998381  0.023218  0.000000  ...          0.000000  0.023218      0.0\n",
              "\n",
              "[5 rows x 16 columns]"
            ]
          },
          "metadata": {
            "tags": []
          },
          "execution_count": 19
        }
      ]
    },
    {
      "cell_type": "code",
      "metadata": {
        "id": "MkyEj5ORsNIr",
        "colab": {
          "base_uri": "https://localhost:8080/"
        },
        "outputId": "78d27d89-7675-4b1b-ac4c-2afc98cbdd2a"
      },
      "source": [
        "pnn = algorithms.PNN(std=10,verbose=True)\n",
        "pnn.train(Xtrain,trainY)"
      ],
      "execution_count": 20,
      "outputs": [
        {
          "output_type": "stream",
          "text": [
            "\n",
            "Main information\n",
            "\n",
            "[ALGORITHM] PNN\n",
            "\r\n",
            "[OPTION] batch_size = 128\n",
            "[OPTION] std = 10\n",
            "[OPTION] verbose = True\n",
            "\r\n"
          ],
          "name": "stdout"
        }
      ]
    },
    {
      "cell_type": "code",
      "metadata": {
        "id": "82oCXHwjuRYs",
        "colab": {
          "base_uri": "https://localhost:8080/"
        },
        "outputId": "c87fef33-8e62-4cba-de68-5d38abc2ebde"
      },
      "source": [
        "pred=pnn.predict(Xtest)\n",
        "prob=pnn.predict_proba(Xtest)\n",
        "print(pred)\n",
        "print('...............')\n",
        "print(prob)"
      ],
      "execution_count": 21,
      "outputs": [
        {
          "output_type": "stream",
          "text": [
            "[0 0 0 0 0 1 0 0 0 0 0 0 1 1 0 1 0 0 1 1 0 0 1 0 1 0 1 1 0 0 0 0 0 0 0 1 1\n",
            " 0 0 0 0 0 1 0 1 1 1 0 1 0 0 0 1 1 0 0 0 0 0 0 0 0 1 0 1 0 0 0 1 1 0 0 0 1\n",
            " 0 1 1 0 1 1 0 1 1 0 1 0 0 0 1 1 0 0 0 1 0 0 0 1 0 1 1 1 0 1]\n",
            "...............\n",
            "[[0.50000396 0.49999604]\n",
            " [0.50000549 0.49999451]\n",
            " [0.50000212 0.49999788]\n",
            " [0.50000471 0.49999529]\n",
            " [0.50000011 0.49999989]\n",
            " [0.49999788 0.50000212]\n",
            " [0.50000161 0.49999839]\n",
            " [0.50000242 0.49999758]\n",
            " [0.50000396 0.49999604]\n",
            " [0.50000382 0.49999618]\n",
            " [0.50000571 0.49999429]\n",
            " [0.50000179 0.49999821]\n",
            " [0.49999556 0.50000444]\n",
            " [0.49999783 0.50000217]\n",
            " [0.50000487 0.49999513]\n",
            " [0.49999709 0.50000291]\n",
            " [0.50000329 0.49999671]\n",
            " [0.50000364 0.49999636]\n",
            " [0.49999981 0.50000019]\n",
            " [0.49999918 0.50000082]\n",
            " [0.50000051 0.49999949]\n",
            " [0.50000239 0.49999761]\n",
            " [0.49999709 0.50000291]\n",
            " [0.50000177 0.49999823]\n",
            " [0.4999993  0.5000007 ]\n",
            " [0.5000054  0.4999946 ]\n",
            " [0.49999941 0.50000059]\n",
            " [0.49999556 0.50000444]\n",
            " [0.50000319 0.49999681]\n",
            " [0.50000004 0.49999996]\n",
            " [0.50000166 0.49999834]\n",
            " [0.50000382 0.49999618]\n",
            " [0.50000499 0.49999501]\n",
            " [0.50000075 0.49999925]\n",
            " [0.50000549 0.49999451]\n",
            " [0.49999831 0.50000169]\n",
            " [0.49999598 0.50000402]\n",
            " [0.50000396 0.49999604]\n",
            " [0.50000571 0.49999429]\n",
            " [0.500001   0.499999  ]\n",
            " [0.50000319 0.49999681]\n",
            " [0.50000403 0.49999597]\n",
            " [0.49999848 0.50000152]\n",
            " [0.50000247 0.49999753]\n",
            " [0.4999934  0.5000066 ]\n",
            " [0.49999851 0.50000149]\n",
            " [0.49999713 0.50000287]\n",
            " [0.50000331 0.49999669]\n",
            " [0.4999974  0.5000026 ]\n",
            " [0.500001   0.499999  ]\n",
            " [0.50000484 0.49999516]\n",
            " [0.50000263 0.49999737]\n",
            " [0.4999957  0.5000043 ]\n",
            " [0.4999934  0.5000066 ]\n",
            " [0.50000263 0.49999737]\n",
            " [0.50000109 0.49999891]\n",
            " [0.50000319 0.49999681]\n",
            " [0.50000364 0.49999636]\n",
            " [0.50000571 0.49999429]\n",
            " [0.50000536 0.49999464]\n",
            " [0.50000012 0.49999988]\n",
            " [0.50000357 0.49999643]\n",
            " [0.49999803 0.50000197]\n",
            " [0.50000227 0.49999773]\n",
            " [0.49999918 0.50000082]\n",
            " [0.50000418 0.49999582]\n",
            " [0.50000083 0.49999917]\n",
            " [0.50000186 0.49999814]\n",
            " [0.49999836 0.50000164]\n",
            " [0.49999694 0.50000306]\n",
            " [0.50000336 0.49999664]\n",
            " [0.50000242 0.49999758]\n",
            " [0.50000368 0.49999632]\n",
            " [0.49999899 0.50000101]\n",
            " [0.5000054  0.4999946 ]\n",
            " [0.49999796 0.50000204]\n",
            " [0.49999495 0.50000505]\n",
            " [0.50000033 0.49999967]\n",
            " [0.49999757 0.50000243]\n",
            " [0.49999848 0.50000152]\n",
            " [0.50000105 0.49999895]\n",
            " [0.49999541 0.50000459]\n",
            " [0.49999941 0.50000059]\n",
            " [0.50000575 0.49999425]\n",
            " [0.4999957  0.5000043 ]\n",
            " [0.50000259 0.49999741]\n",
            " [0.50000471 0.49999529]\n",
            " [0.50000076 0.49999924]\n",
            " [0.49999634 0.50000366]\n",
            " [0.49999556 0.50000444]\n",
            " [0.50000212 0.49999788]\n",
            " [0.50000296 0.49999704]\n",
            " [0.50000532 0.49999468]\n",
            " [0.49999328 0.50000672]\n",
            " [0.50000435 0.49999565]\n",
            " [0.500003   0.499997  ]\n",
            " [0.50000033 0.49999967]\n",
            " [0.4999957  0.5000043 ]\n",
            " [0.50000011 0.49999989]\n",
            " [0.49999944 0.50000056]\n",
            " [0.4999989  0.5000011 ]\n",
            " [0.49999987 0.50000013]\n",
            " [0.50000142 0.49999858]\n",
            " [0.49999928 0.50000072]]\n"
          ],
          "name": "stdout"
        },
        {
          "output_type": "stream",
          "text": [
            "\r                                                                               \r\r                                                                               \r"
          ],
          "name": "stderr"
        }
      ]
    },
    {
      "cell_type": "code",
      "metadata": {
        "id": "RFFbRm1QsNBN",
        "colab": {
          "base_uri": "https://localhost:8080/"
        },
        "outputId": "2fd3cdd7-1639-4999-e5f5-96c9f3f84af7"
      },
      "source": [
        "y_predicted = pnn.predict(testX) #0.7019230769230769\n",
        "metrics.accuracy_score(testY, y_predicted)"
      ],
      "execution_count": 22,
      "outputs": [
        {
          "output_type": "stream",
          "text": [
            "\r                                                                               \r"
          ],
          "name": "stderr"
        },
        {
          "output_type": "execute_result",
          "data": {
            "text/plain": [
              "0.7019230769230769"
            ]
          },
          "metadata": {
            "tags": []
          },
          "execution_count": 22
        }
      ]
    }
  ]
}